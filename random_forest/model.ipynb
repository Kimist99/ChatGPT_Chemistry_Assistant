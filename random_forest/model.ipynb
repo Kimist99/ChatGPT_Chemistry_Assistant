{
 "cells": [
  {
   "cell_type": "code",
   "execution_count": null,
   "metadata": {},
   "outputs": [],
   "source": [
    "from sklearn.model_selection import train_test_split, RandomizedSearchCV\n",
    "from sklearn.feature_selection import RFECV\n",
    "from sklearn.ensemble import RandomForestClassifier\n",
    "from sklearn.metrics import (f1_score, recall_score, precision_score, \n",
    "                             roc_auc_score, balanced_accuracy_score)"
   ]
  },
  {
   "cell_type": "code",
   "execution_count": null,
   "metadata": {},
   "outputs": [],
   "source": [
    "import numpy as np\n",
    "import pandas as pd\n",
    "from copy import deepcopy"
   ]
  },
  {
   "cell_type": "code",
   "execution_count": null,
   "metadata": {},
   "outputs": [],
   "source": [
    "# preprocess data and drop unused columns\n",
    "\n",
    "data = pd.read_csv(\"processed_data.csv\")\n",
    "ys = data[\"result\"].values\n",
    "Xs = data.drop([\"result\"], axis=1).fillna(0.)\n",
    "nan_mask = np.all(data == 0, axis=0)\n",
    "Xs = Xs.drop(list(data.columns[nan_mask]), axis=1)\n"
   ]
  },
  {
   "cell_type": "code",
   "execution_count": null,
   "metadata": {},
   "outputs": [],
   "source": [
    "# recursive feature reduction\n",
    "\n",
    "clf = RandomForestClassifier(criterion=\"entropy\", random_state=42, class_weight=\"balanced\")\n",
    "rfecv = RFECV(\n",
    "    estimator=clf,\n",
    "    cv=5,\n",
    "    scoring=\"accuracy\",\n",
    "    min_features_to_select=20,\n",
    ")\n",
    "rfecv.fit(Xs.values, ys)\n",
    "\n",
    "print(f\"Optimal number of features: {rfecv.n_features_}\")"
   ]
  },
  {
   "cell_type": "code",
   "execution_count": null,
   "metadata": {},
   "outputs": [],
   "source": [
    "train_size = np.arange(0.4, 1, 0.1)\n",
    "X_REF = Xs.values[:, rfecv.support_]\n",
    "params = {\"n_estimators\": np.arange(50, 250, 50),\n",
    "            \"min_samples_leaf\": np.arange(5, 30)}\n",
    "REF_ac = {\"train\": [], \"test\": [], \"f1\": [], \"p\": [], \"r\": [], \"auc\": []}\n",
    "prev = 0\n",
    "\n",
    "np.random.seed(49)\n",
    "split_states = np.random.randint(100, size=10)\n",
    "\n",
    "for s in train_size:\n",
    "    train_ac = []\n",
    "    test_ac = []\n",
    "    test_F1 = []\n",
    "    test_p = []\n",
    "    test_r = []\n",
    "    test_auc = []\n",
    "    X_train, X_test, y_train, y_test = train_test_split(X_REF, ys, train_size=s, random_state=42)\n",
    "    for i in split_states:\n",
    "        # hyperparameter tunning \n",
    "        rf = RandomForestClassifier(criterion=\"entropy\", class_weight=\"balanced\", random_state=49)\n",
    "        clf = RandomizedSearchCV(rf, params, n_iter=10, random_state=i)\n",
    "        search = clf.fit(X_train, y_train)\n",
    "        \n",
    "        #print(search.best_params_)\n",
    "        best_rf = deepcopy(clf.best_estimator_)\n",
    "        \n",
    "        #kf = StratifiedKFold(5, shuffle=True, random_state=42)\n",
    "    \n",
    "        test_pred = best_rf.predict(X_test)\n",
    "        train_pred = best_rf.predict(X_train)\n",
    "        test_ac.append(balanced_accuracy_score(y_test, test_pred))\n",
    "        if test_ac[-1] > prev:\n",
    "            prev = test_ac[-1]\n",
    "            best_model = best_rf\n",
    "\n",
    "        #print(f\"seed {i}, balanced accuracy {test_ac[-1]}, accuracy {best_rf.score(X_test, y_test)}\")\n",
    "        test_F1.append(f1_score(y_test, test_pred))\n",
    "        test_p.append(precision_score(y_test, test_pred))\n",
    "        test_r.append(recall_score(y_test, test_pred))\n",
    "        test_auc.append(roc_auc_score(y_test, best_rf.predict_proba(X_test)[:, 1]))\n",
    "        train_ac.append(balanced_accuracy_score(y_train, train_pred))\n",
    "    REF_ac[\"train\"] += [[np.mean(train_ac), np.std(train_ac)]]\n",
    "    REF_ac[\"test\"] += [[np.mean(test_ac), np.std(test_ac)]]\n",
    "    REF_ac[\"f1\"] += [[np.mean(test_F1), np.std(test_F1)]]\n",
    "    REF_ac[\"p\"] += [[np.mean(test_p), np.std(test_p)]]\n",
    "    REF_ac[\"r\"] += [[np.mean(test_r), np.std(test_r)]]\n",
    "    REF_ac[\"auc\"] += [[np.mean(test_auc), np.std(test_auc)]]"
   ]
  }
 ],
 "metadata": {
  "kernelspec": {
   "display_name": "chem142",
   "language": "python",
   "name": "chem142"
  },
  "language_info": {
   "name": "python",
   "version": "3.8.15"
  },
  "orig_nbformat": 4
 },
 "nbformat": 4,
 "nbformat_minor": 2
}
